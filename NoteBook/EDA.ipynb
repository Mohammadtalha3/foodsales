{
 "cells": [
  {
   "cell_type": "code",
   "execution_count": 87,
   "metadata": {},
   "outputs": [
    {
     "ename": "ModuleNotFoundError",
     "evalue": "No module named 'sklearn'",
     "output_type": "error",
     "traceback": [
      "\u001b[1;31m---------------------------------------------------------------------------\u001b[0m",
      "\u001b[1;31mModuleNotFoundError\u001b[0m                       Traceback (most recent call last)",
      "Cell \u001b[1;32mIn[87], line 3\u001b[0m\n\u001b[0;32m      1\u001b[0m \u001b[39mimport\u001b[39;00m \u001b[39mnumpy\u001b[39;00m \u001b[39mas\u001b[39;00m \u001b[39mnp\u001b[39;00m\n\u001b[0;32m      2\u001b[0m \u001b[39mimport\u001b[39;00m \u001b[39mpandas\u001b[39;00m \u001b[39mas\u001b[39;00m \u001b[39mpd\u001b[39;00m\n\u001b[1;32m----> 3\u001b[0m \u001b[39mfrom\u001b[39;00m \u001b[39msklearn\u001b[39;00m\u001b[39m.\u001b[39;00m\u001b[39mpreprocessing\u001b[39;00m \u001b[39mimport\u001b[39;00m OneHotEncoder, StandardScaler \n\u001b[0;32m      4\u001b[0m \u001b[39mfrom\u001b[39;00m \u001b[39msklearn\u001b[39;00m\u001b[39m.\u001b[39;00m\u001b[39mcompose\u001b[39;00m \u001b[39mimport\u001b[39;00m ColumnTransformer\n",
      "\u001b[1;31mModuleNotFoundError\u001b[0m: No module named 'sklearn'"
     ]
    }
   ],
   "source": [
    "import numpy as np\n",
    "import pandas as pd\n",
    "from sklearn.preprocessing import OneHotEncoder, StandardScaler \n",
    "from sklearn.compose import ColumnTransformer"
   ]
  },
  {
   "cell_type": "code",
   "execution_count": 76,
   "metadata": {},
   "outputs": [
    {
     "data": {
      "text/html": [
       "<div>\n",
       "<style scoped>\n",
       "    .dataframe tbody tr th:only-of-type {\n",
       "        vertical-align: middle;\n",
       "    }\n",
       "\n",
       "    .dataframe tbody tr th {\n",
       "        vertical-align: top;\n",
       "    }\n",
       "\n",
       "    .dataframe thead th {\n",
       "        text-align: right;\n",
       "    }\n",
       "</style>\n",
       "<table border=\"1\" class=\"dataframe\">\n",
       "  <thead>\n",
       "    <tr style=\"text-align: right;\">\n",
       "      <th></th>\n",
       "      <th>No</th>\n",
       "      <th>Date</th>\n",
       "      <th>C/code</th>\n",
       "      <th>Customer_name</th>\n",
       "      <th>Customer_address</th>\n",
       "      <th>Item_code</th>\n",
       "      <th>Product_name</th>\n",
       "      <th>Orignal_price</th>\n",
       "      <th>CTN</th>\n",
       "      <th>PCS</th>\n",
       "      <th>Total_discount</th>\n",
       "      <th>Discount_price</th>\n",
       "      <th>PCS_in_CTN</th>\n",
       "      <th>Price_per_PCS</th>\n",
       "      <th>Discount_per_piece</th>\n",
       "      <th>Month</th>\n",
       "      <th>Price Range</th>\n",
       "      <th>Has_Discount</th>\n",
       "    </tr>\n",
       "  </thead>\n",
       "  <tbody>\n",
       "    <tr>\n",
       "      <th>0</th>\n",
       "      <td>3</td>\n",
       "      <td>2021-09-10</td>\n",
       "      <td>9295</td>\n",
       "      <td>BIG BITE FAST FOOD</td>\n",
       "      <td>WARSAK ROAD</td>\n",
       "      <td>1770</td>\n",
       "      <td>DEEN'S CHADDER CHEESE BLOCK 2K</td>\n",
       "      <td>14500</td>\n",
       "      <td>1</td>\n",
       "      <td>10</td>\n",
       "      <td>1000</td>\n",
       "      <td>13500</td>\n",
       "      <td>10</td>\n",
       "      <td>1450.0</td>\n",
       "      <td>100.0</td>\n",
       "      <td>9</td>\n",
       "      <td>Low</td>\n",
       "      <td>1</td>\n",
       "    </tr>\n",
       "    <tr>\n",
       "      <th>1</th>\n",
       "      <td>3</td>\n",
       "      <td>2021-09-10</td>\n",
       "      <td>9295</td>\n",
       "      <td>BIG BITE FAST FOOD</td>\n",
       "      <td>WARSAK ROAD</td>\n",
       "      <td>1771</td>\n",
       "      <td>DEEN'S MOZRELLA CHEESE BLOCK</td>\n",
       "      <td>19250</td>\n",
       "      <td>0</td>\n",
       "      <td>5</td>\n",
       "      <td>375</td>\n",
       "      <td>9250</td>\n",
       "      <td>10</td>\n",
       "      <td>1925.0</td>\n",
       "      <td>75.0</td>\n",
       "      <td>9</td>\n",
       "      <td>Low</td>\n",
       "      <td>1</td>\n",
       "    </tr>\n",
       "    <tr>\n",
       "      <th>2</th>\n",
       "      <td>4</td>\n",
       "      <td>2021-09-10</td>\n",
       "      <td>8992</td>\n",
       "      <td>PIZZA FLAME</td>\n",
       "      <td>IBRAHIM MARKET</td>\n",
       "      <td>1770</td>\n",
       "      <td>DEEN'S CHADDER CHEESE BLOCK 2K</td>\n",
       "      <td>14500</td>\n",
       "      <td>0</td>\n",
       "      <td>2</td>\n",
       "      <td>200</td>\n",
       "      <td>2700</td>\n",
       "      <td>10</td>\n",
       "      <td>1450.0</td>\n",
       "      <td>100.0</td>\n",
       "      <td>9</td>\n",
       "      <td>Low</td>\n",
       "      <td>1</td>\n",
       "    </tr>\n",
       "    <tr>\n",
       "      <th>3</th>\n",
       "      <td>4</td>\n",
       "      <td>2021-09-10</td>\n",
       "      <td>8992</td>\n",
       "      <td>PIZZA FLAME</td>\n",
       "      <td>IBRAHIM MARKET</td>\n",
       "      <td>1771</td>\n",
       "      <td>DEEN'S MOZRELLA CHEESE BLOCK</td>\n",
       "      <td>19250</td>\n",
       "      <td>0</td>\n",
       "      <td>2</td>\n",
       "      <td>150</td>\n",
       "      <td>3700</td>\n",
       "      <td>10</td>\n",
       "      <td>1925.0</td>\n",
       "      <td>75.0</td>\n",
       "      <td>9</td>\n",
       "      <td>Low</td>\n",
       "      <td>1</td>\n",
       "    </tr>\n",
       "    <tr>\n",
       "      <th>4</th>\n",
       "      <td>5</td>\n",
       "      <td>2021-09-10</td>\n",
       "      <td>9903</td>\n",
       "      <td>CHIL &amp; GRILL 0312.9553655</td>\n",
       "      <td>MOHMAD ZAI</td>\n",
       "      <td>1770</td>\n",
       "      <td>DEEN'S CHADDER CHEESE BLOCK 2K</td>\n",
       "      <td>14500</td>\n",
       "      <td>0</td>\n",
       "      <td>2</td>\n",
       "      <td>200</td>\n",
       "      <td>2700</td>\n",
       "      <td>10</td>\n",
       "      <td>1450.0</td>\n",
       "      <td>100.0</td>\n",
       "      <td>9</td>\n",
       "      <td>Low</td>\n",
       "      <td>1</td>\n",
       "    </tr>\n",
       "  </tbody>\n",
       "</table>\n",
       "</div>"
      ],
      "text/plain": [
       "   No        Date  C/code              Customer_name Customer_address  \\\n",
       "0   3  2021-09-10    9295         BIG BITE FAST FOOD      WARSAK ROAD   \n",
       "1   3  2021-09-10    9295         BIG BITE FAST FOOD      WARSAK ROAD   \n",
       "2   4  2021-09-10    8992                PIZZA FLAME   IBRAHIM MARKET   \n",
       "3   4  2021-09-10    8992                PIZZA FLAME   IBRAHIM MARKET   \n",
       "4   5  2021-09-10    9903  CHIL & GRILL 0312.9553655       MOHMAD ZAI   \n",
       "\n",
       "   Item_code                    Product_name  Orignal_price  CTN  PCS  \\\n",
       "0       1770  DEEN'S CHADDER CHEESE BLOCK 2K          14500    1   10   \n",
       "1       1771    DEEN'S MOZRELLA CHEESE BLOCK          19250    0    5   \n",
       "2       1770  DEEN'S CHADDER CHEESE BLOCK 2K          14500    0    2   \n",
       "3       1771    DEEN'S MOZRELLA CHEESE BLOCK          19250    0    2   \n",
       "4       1770  DEEN'S CHADDER CHEESE BLOCK 2K          14500    0    2   \n",
       "\n",
       "   Total_discount  Discount_price  PCS_in_CTN  Price_per_PCS  \\\n",
       "0            1000           13500          10         1450.0   \n",
       "1             375            9250          10         1925.0   \n",
       "2             200            2700          10         1450.0   \n",
       "3             150            3700          10         1925.0   \n",
       "4             200            2700          10         1450.0   \n",
       "\n",
       "   Discount_per_piece  Month Price Range  Has_Discount  \n",
       "0               100.0      9         Low             1  \n",
       "1                75.0      9         Low             1  \n",
       "2               100.0      9         Low             1  \n",
       "3                75.0      9         Low             1  \n",
       "4               100.0      9         Low             1  "
      ]
     },
     "execution_count": 76,
     "metadata": {},
     "output_type": "execute_result"
    }
   ],
   "source": [
    "data=pd.read_csv(r'D:\\foodsales\\NoteBook\\Data\\dataset.csv')\n",
    "data.head(5)"
   ]
  },
  {
   "cell_type": "code",
   "execution_count": 77,
   "metadata": {},
   "outputs": [
    {
     "data": {
      "text/plain": [
       "(7263, 18)"
      ]
     },
     "execution_count": 77,
     "metadata": {},
     "output_type": "execute_result"
    }
   ],
   "source": [
    "data.shape"
   ]
  },
  {
   "cell_type": "code",
   "execution_count": 78,
   "metadata": {},
   "outputs": [
    {
     "data": {
      "text/plain": [
       "No                    0\n",
       "Date                  0\n",
       "C/code                0\n",
       "Customer_name         0\n",
       "Customer_address      0\n",
       "Item_code             0\n",
       "Product_name          0\n",
       "Orignal_price         0\n",
       "CTN                   0\n",
       "PCS                   0\n",
       "Total_discount        0\n",
       "Discount_price        0\n",
       "PCS_in_CTN            0\n",
       "Price_per_PCS         0\n",
       "Discount_per_piece    0\n",
       "Month                 0\n",
       "Price Range           0\n",
       "Has_Discount          0\n",
       "dtype: int64"
      ]
     },
     "execution_count": 78,
     "metadata": {},
     "output_type": "execute_result"
    }
   ],
   "source": [
    "data.isna().sum()"
   ]
  },
  {
   "cell_type": "code",
   "execution_count": 79,
   "metadata": {},
   "outputs": [
    {
     "data": {
      "text/plain": [
       "2"
      ]
     },
     "execution_count": 79,
     "metadata": {},
     "output_type": "execute_result"
    }
   ],
   "source": [
    "data.duplicated().sum()"
   ]
  },
  {
   "cell_type": "code",
   "execution_count": 80,
   "metadata": {},
   "outputs": [
    {
     "data": {
      "text/plain": [
       "No                    3295\n",
       "Date                   372\n",
       "C/code                 221\n",
       "Customer_name          214\n",
       "Customer_address       131\n",
       "Item_code               14\n",
       "Product_name            16\n",
       "Orignal_price           43\n",
       "CTN                     10\n",
       "PCS                     35\n",
       "Total_discount         334\n",
       "Discount_price         724\n",
       "PCS_in_CTN               8\n",
       "Price_per_PCS           43\n",
       "Discount_per_piece     254\n",
       "Month                   12\n",
       "Price Range              3\n",
       "Has_Discount             2\n",
       "dtype: int64"
      ]
     },
     "execution_count": 80,
     "metadata": {},
     "output_type": "execute_result"
    }
   ],
   "source": [
    "data.nunique()"
   ]
  },
  {
   "cell_type": "code",
   "execution_count": 81,
   "metadata": {},
   "outputs": [
    {
     "data": {
      "text/html": [
       "<div>\n",
       "<style scoped>\n",
       "    .dataframe tbody tr th:only-of-type {\n",
       "        vertical-align: middle;\n",
       "    }\n",
       "\n",
       "    .dataframe tbody tr th {\n",
       "        vertical-align: top;\n",
       "    }\n",
       "\n",
       "    .dataframe thead th {\n",
       "        text-align: right;\n",
       "    }\n",
       "</style>\n",
       "<table border=\"1\" class=\"dataframe\">\n",
       "  <thead>\n",
       "    <tr style=\"text-align: right;\">\n",
       "      <th></th>\n",
       "      <th>No</th>\n",
       "      <th>Date</th>\n",
       "      <th>C/code</th>\n",
       "      <th>Customer_name</th>\n",
       "      <th>Customer_address</th>\n",
       "      <th>Item_code</th>\n",
       "      <th>Product_name</th>\n",
       "      <th>Orignal_price</th>\n",
       "      <th>CTN</th>\n",
       "      <th>PCS</th>\n",
       "      <th>Total_discount</th>\n",
       "      <th>Discount_price</th>\n",
       "      <th>PCS_in_CTN</th>\n",
       "      <th>Price_per_PCS</th>\n",
       "      <th>Discount_per_piece</th>\n",
       "      <th>Month</th>\n",
       "      <th>Price Range</th>\n",
       "      <th>Has_Discount</th>\n",
       "    </tr>\n",
       "  </thead>\n",
       "  <tbody>\n",
       "    <tr>\n",
       "      <th>0</th>\n",
       "      <td>3</td>\n",
       "      <td>2021-09-10</td>\n",
       "      <td>9295</td>\n",
       "      <td>BIG BITE FAST FOOD</td>\n",
       "      <td>WARSAK ROAD</td>\n",
       "      <td>1770</td>\n",
       "      <td>DEEN'S CHADDER CHEESE BLOCK 2K</td>\n",
       "      <td>14500</td>\n",
       "      <td>1</td>\n",
       "      <td>10</td>\n",
       "      <td>1000</td>\n",
       "      <td>13500</td>\n",
       "      <td>10</td>\n",
       "      <td>1450.0</td>\n",
       "      <td>100.0</td>\n",
       "      <td>9</td>\n",
       "      <td>Low</td>\n",
       "      <td>1</td>\n",
       "    </tr>\n",
       "    <tr>\n",
       "      <th>1</th>\n",
       "      <td>3</td>\n",
       "      <td>2021-09-10</td>\n",
       "      <td>9295</td>\n",
       "      <td>BIG BITE FAST FOOD</td>\n",
       "      <td>WARSAK ROAD</td>\n",
       "      <td>1771</td>\n",
       "      <td>DEEN'S MOZRELLA CHEESE BLOCK</td>\n",
       "      <td>19250</td>\n",
       "      <td>0</td>\n",
       "      <td>5</td>\n",
       "      <td>375</td>\n",
       "      <td>9250</td>\n",
       "      <td>10</td>\n",
       "      <td>1925.0</td>\n",
       "      <td>75.0</td>\n",
       "      <td>9</td>\n",
       "      <td>Low</td>\n",
       "      <td>1</td>\n",
       "    </tr>\n",
       "  </tbody>\n",
       "</table>\n",
       "</div>"
      ],
      "text/plain": [
       "   No        Date  C/code       Customer_name Customer_address  Item_code  \\\n",
       "0   3  2021-09-10    9295  BIG BITE FAST FOOD      WARSAK ROAD       1770   \n",
       "1   3  2021-09-10    9295  BIG BITE FAST FOOD      WARSAK ROAD       1771   \n",
       "\n",
       "                     Product_name  Orignal_price  CTN  PCS  Total_discount  \\\n",
       "0  DEEN'S CHADDER CHEESE BLOCK 2K          14500    1   10            1000   \n",
       "1    DEEN'S MOZRELLA CHEESE BLOCK          19250    0    5             375   \n",
       "\n",
       "   Discount_price  PCS_in_CTN  Price_per_PCS  Discount_per_piece  Month  \\\n",
       "0           13500          10         1450.0               100.0      9   \n",
       "1            9250          10         1925.0                75.0      9   \n",
       "\n",
       "  Price Range  Has_Discount  \n",
       "0         Low             1  \n",
       "1         Low             1  "
      ]
     },
     "execution_count": 81,
     "metadata": {},
     "output_type": "execute_result"
    }
   ],
   "source": [
    "data.head(2)"
   ]
  },
  {
   "cell_type": "code",
   "execution_count": 82,
   "metadata": {},
   "outputs": [
    {
     "data": {
      "text/plain": [
       "No                      int64\n",
       "Date                   object\n",
       "C/code                  int64\n",
       "Customer_name          object\n",
       "Customer_address       object\n",
       "Item_code               int64\n",
       "Product_name           object\n",
       "Orignal_price           int64\n",
       "CTN                     int64\n",
       "PCS                     int64\n",
       "Total_discount          int64\n",
       "Discount_price          int64\n",
       "PCS_in_CTN              int64\n",
       "Price_per_PCS         float64\n",
       "Discount_per_piece    float64\n",
       "Month                   int64\n",
       "Price Range            object\n",
       "Has_Discount            int64\n",
       "dtype: object"
      ]
     },
     "execution_count": 82,
     "metadata": {},
     "output_type": "execute_result"
    }
   ],
   "source": [
    "data.dtypes\n"
   ]
  },
  {
   "cell_type": "code",
   "execution_count": 83,
   "metadata": {},
   "outputs": [
    {
     "data": {
      "text/plain": [
       "['Date', 'Customer_name', 'Customer_address', 'Product_name', 'Price Range']"
      ]
     },
     "execution_count": 83,
     "metadata": {},
     "output_type": "execute_result"
    }
   ],
   "source": [
    "categorical_data=[feature for feature in data.columns if data[feature].dtype=='O']\n",
    "numerical_data= [feature for feature in data.columns if data[feature].dtype!='O']\n",
    "\n",
    "\n",
    "categorical_data"
   ]
  },
  {
   "cell_type": "code",
   "execution_count": 86,
   "metadata": {},
   "outputs": [
    {
     "ename": "ModuleNotFoundError",
     "evalue": "No module named 'sklearn'",
     "output_type": "error",
     "traceback": [
      "\u001b[1;31m---------------------------------------------------------------------------\u001b[0m",
      "\u001b[1;31mModuleNotFoundError\u001b[0m                       Traceback (most recent call last)",
      "Cell \u001b[1;32mIn[86], line 1\u001b[0m\n\u001b[1;32m----> 1\u001b[0m \u001b[39mfrom\u001b[39;00m \u001b[39msklearn\u001b[39;00m\u001b[39m.\u001b[39;00m\u001b[39mpreprocessing\u001b[39;00m \u001b[39mimport\u001b[39;00m OneHotEncoder, StandardScaler \n\u001b[0;32m      2\u001b[0m \u001b[39mfrom\u001b[39;00m \u001b[39msklearn\u001b[39;00m\u001b[39m.\u001b[39;00m\u001b[39mcompose\u001b[39;00m \u001b[39mimport\u001b[39;00m ColumnTransformer\n\u001b[0;32m      3\u001b[0m cat_transformer\u001b[39m=\u001b[39m OneHotEncoder()\n",
      "\u001b[1;31mModuleNotFoundError\u001b[0m: No module named 'sklearn'"
     ]
    }
   ],
   "source": [
    "from sklearn.preprocessing import OneHotEncoder, StandardScaler \n",
    "from sklearn.compose import ColumnTransformer\n",
    "cat_transformer= OneHotEncoder()\n",
    "num_transformer=StandardScaler()\n",
    "\n",
    "preprocessor= ColumnTransformer(\n",
    "    [\n",
    "        (\"OneHotEncode\",cat_transformer,categorical_data),\n",
    "        (\"StandardScaler\",num_transformer,numerical_data),\n",
    "    ]\n",
    "\n",
    ")\n",
    "\n",
    "\n"
   ]
  },
  {
   "cell_type": "code",
   "execution_count": null,
   "metadata": {},
   "outputs": [],
   "source": []
  }
 ],
 "metadata": {
  "kernelspec": {
   "display_name": "Python 3",
   "language": "python",
   "name": "python3"
  },
  "language_info": {
   "codemirror_mode": {
    "name": "ipython",
    "version": 3
   },
   "file_extension": ".py",
   "mimetype": "text/x-python",
   "name": "python",
   "nbconvert_exporter": "python",
   "pygments_lexer": "ipython3",
   "version": "3.9.0"
  },
  "orig_nbformat": 4
 },
 "nbformat": 4,
 "nbformat_minor": 2
}
